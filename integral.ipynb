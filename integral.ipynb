{
 "cells": [
  {
   "cell_type": "code",
   "execution_count": 3,
   "metadata": {},
   "outputs": [
    {
     "data": {
      "text/latex": [
       "$\\displaystyle \\int x^{2} + \\sin{\\left(x \\right)} \\, dx = \\frac{x^{3}}{3} - \\cos{\\left(x \\right)} + C$"
      ],
      "text/plain": [
       "<IPython.core.display.Math object>"
      ]
     },
     "metadata": {},
     "output_type": "display_data"
    },
    {
     "data": {
      "text/latex": [
       "$\\displaystyle \\int_{0}^{pi} x^{2} + \\sin{\\left(x \\right)} \\, dx = 2 + \\frac{\\pi^{3}}{3}$"
      ],
      "text/plain": [
       "<IPython.core.display.Math object>"
      ]
     },
     "metadata": {},
     "output_type": "display_data"
    }
   ],
   "source": [
    "import sympy as sp\n",
    "from IPython.display import display, Math\n",
    "\n",
    "# Define the symbols\n",
    "x = sp.symbols('x')\n",
    "\n",
    "# Define the function\n",
    "f = x**2 + sp.sin(x) \n",
    "\n",
    "integral_f = sp.integrate(f, x)\n",
    "\n",
    "integral_latex = sp.latex(f)\n",
    "result_latex = sp.latex(integral_f)\n",
    "\n",
    "display(Math(f'\\\\int {integral_latex} \\\\, dx = {result_latex} + C'))\n",
    "\n",
    "a, b = 0, sp.pi  # Lower and upper limits for definite integral\n",
    "definite_integral = sp.integrate(f, (x, a, b))\n",
    "\n",
    "definite_integral_latex = sp.latex(definite_integral)\n",
    "\n",
    "display(Math(f'\\\\int_{{{a}}}^{{{b}}} {integral_latex} \\\\, dx = {definite_integral_latex}'))"
   ]
  },
  {
   "cell_type": "code",
   "execution_count": 4,
   "metadata": {},
   "outputs": [
    {
     "data": {
      "text/latex": [
       "$\\displaystyle \\int_{0}^{3.141592653589793} \\int_{0}^{2} (x^2 + \\sin(x) y^2) \\, dx \\, dy \\approx 26.0038$"
      ],
      "text/plain": [
       "<IPython.core.display.Math object>"
      ]
     },
     "metadata": {},
     "output_type": "display_data"
    }
   ],
   "source": [
    "import numpy as np\n",
    "from IPython.display import display, Math\n",
    "\n",
    "def double_integral_midpoint(f, x_range, y_range, num_points_x, num_points_y):\n",
    "    \"\"\"\n",
    "    Computes the double integral of a function f(x, y) over a rectangular region using the Midpoint Rule.\n",
    "    \n",
    "    Parameters:\n",
    "    - f: function of two variables (lambda function)\n",
    "    - x_range: tuple (x_min, x_max), the range of integration for x\n",
    "    - y_range: tuple (y_min, y_max), the range of integration for y\n",
    "    - num_points_x: number of points for discretization in the x direction\n",
    "    - num_points_y: number of points for discretization in the y direction\n",
    "    \n",
    "    Returns:\n",
    "    - Approximate value of the double integral\n",
    "    \"\"\"\n",
    "    # Discretize the range of x and y\n",
    "    x_min, x_max = x_range\n",
    "    y_min, y_max = y_range\n",
    "\n",
    "    # Calculate the width of each small rectangle\n",
    "    dx = (x_max - x_min) / num_points_x\n",
    "    dy = (y_max - y_min) / num_points_y\n",
    "    \n",
    "    integral_sum = 0\n",
    "\n",
    "    # Calculate the midpoints for x and y\n",
    "    for i in range(num_points_x):\n",
    "        for j in range(num_points_y):\n",
    "            x_mid = x_min + (i + 0.5) * dx\n",
    "            y_mid = y_min + (j + 0.5) * dy\n",
    "            integral_sum += f(x_mid, y_mid) * dx * dy\n",
    "\n",
    "    return integral_sum\n",
    "\n",
    "# Example function: f(x, y) = x^2 + sin(x) * y^2\n",
    "f = lambda x, y: x**2 + np.sin(x) * y**2\n",
    "\n",
    "# Define the range of integration for x and y\n",
    "x_range = (0, np.pi)  # Example range for x\n",
    "y_range = (0, 2)      # Example range for y\n",
    "\n",
    "# Number of points for discretization\n",
    "num_points_x = 100  # Adjust for accuracy\n",
    "num_points_y = 100\n",
    "\n",
    "# Compute the double integral\n",
    "double_integral_result = double_integral_midpoint(f, x_range, y_range, num_points_x, num_points_y)\n",
    "\n",
    "# Display the result in LaTeX format\n",
    "display(Math(f\"\\\\int_{{{x_range[0]}}}^{{{x_range[1]}}} \\\\int_{{{y_range[0]}}}^{{{y_range[1]}}} (x^2 + \\\\sin(x) y^2) \\\\, dx \\\\, dy \\\\approx {double_integral_result:.4f}\"))"
   ]
  },
  {
   "cell_type": "code",
   "execution_count": 11,
   "metadata": {},
   "outputs": [
    {
     "data": {
      "text/latex": [
       "$\\displaystyle \\text{Given function: } f(x, y) = x^{2} + y^{2} \\sin{\\left(x \\right)}$"
      ],
      "text/plain": [
       "<IPython.core.display.Math object>"
      ]
     },
     "metadata": {},
     "output_type": "display_data"
    },
    {
     "data": {
      "text/latex": [
       "$\\displaystyle \\text{Double Integral: } \\int_{0}^{2} \\int_{0}^{pi} \\left( x^{2} + y^{2} \\sin{\\left(x \\right)} \\right) \\, dx \\, dy$"
      ],
      "text/plain": [
       "<IPython.core.display.Math object>"
      ]
     },
     "metadata": {},
     "output_type": "display_data"
    },
    {
     "data": {
      "text/latex": [
       "$\\displaystyle \\text{Step 1: Integrate with respect to } x:$"
      ],
      "text/plain": [
       "<IPython.core.display.Math object>"
      ]
     },
     "metadata": {},
     "output_type": "display_data"
    },
    {
     "data": {
      "text/latex": [
       "$\\displaystyle \\int_{0}^{pi} \\left( x^{2} + y^{2} \\sin{\\left(x \\right)} \\right) \\, dx = 2 y^{2} + \\frac{\\pi^{3}}{3}$"
      ],
      "text/plain": [
       "<IPython.core.display.Math object>"
      ]
     },
     "metadata": {},
     "output_type": "display_data"
    },
    {
     "data": {
      "text/latex": [
       "$\\displaystyle \\text{Step 2: Integrate with respect to } y:$"
      ],
      "text/plain": [
       "<IPython.core.display.Math object>"
      ]
     },
     "metadata": {},
     "output_type": "display_data"
    },
    {
     "data": {
      "text/latex": [
       "$\\displaystyle \\int_{0}^{2} \\left( 2 y^{2} + \\frac{\\pi^{3}}{3} \\right) \\, dy = \\frac{16}{3} + \\frac{2 \\pi^{3}}{3}$"
      ],
      "text/plain": [
       "<IPython.core.display.Math object>"
      ]
     },
     "metadata": {},
     "output_type": "display_data"
    },
    {
     "data": {
      "text/latex": [
       "$\\displaystyle \\text{Final Result: } \\int_{0}^{2} \\int_{0}^{pi} \\left( x^{2} + y^{2} \\sin{\\left(x \\right)} \\right) \\, dx \\, dy = \\frac{16}{3} + \\frac{2 \\pi^{3}}{3}$"
      ],
      "text/plain": [
       "<IPython.core.display.Math object>"
      ]
     },
     "metadata": {},
     "output_type": "display_data"
    },
    {
     "data": {
      "text/latex": [
       "$\\displaystyle \\text{Detailed Step-by-Step Solution:}$"
      ],
      "text/plain": [
       "<IPython.core.display.Math object>"
      ]
     },
     "metadata": {},
     "output_type": "display_data"
    },
    {
     "data": {
      "text/latex": [
       "$\\displaystyle \\int \\left( x^{2} + y^{2} \\sin{\\left(x \\right)} \\right) \\, dx = \\frac{x^{3}}{3} - y^{2} \\cos{\\left(x \\right)}$"
      ],
      "text/plain": [
       "<IPython.core.display.Math object>"
      ]
     },
     "metadata": {},
     "output_type": "display_data"
    },
    {
     "data": {
      "text/latex": [
       "$\\displaystyle \\int \\left( \\frac{x^{3}}{3} - y^{2} \\cos{\\left(x \\right)} \\right) \\, dy = \\frac{x^{3} y}{3} - \\frac{y^{3} \\cos{\\left(x \\right)}}{3}$"
      ],
      "text/plain": [
       "<IPython.core.display.Math object>"
      ]
     },
     "metadata": {},
     "output_type": "display_data"
    }
   ],
   "source": [
    "import sympy as sp\n",
    "from IPython.display import display, Math\n",
    "\n",
    "def compute_double_integral(expr, x_range, y_range):\n",
    "    # Extract symbols for integration\n",
    "    x, y = sp.symbols('x y')\n",
    "    x_min, x_max = x_range\n",
    "    y_min, y_max = y_range\n",
    "\n",
    "    # Display the original function and the double integral expression\n",
    "    display(Math(r\"\\text{Given function: } f(x, y) = \" + sp.latex(expr)))\n",
    "    display(Math(r\"\\text{Double Integral: } \\int_{%s}^{%s} \\int_{%s}^{%s} \\left( %s \\right) \\, dx \\, dy\" % (y_min, y_max, x_min, x_max, sp.latex(expr))))\n",
    "\n",
    "    # Step 1: Integrate with respect to x (treating y as a constant)\n",
    "    display(Math(r\"\\text{Step 1: Integrate with respect to } x:\"))\n",
    "    integral_x = sp.integrate(expr, (x, x_min, x_max))\n",
    "    display(Math(r\"\\int_{%s}^{%s} \\left( %s \\right) \\, dx = %s\" % (x_min, x_max, sp.latex(expr), sp.latex(integral_x))))\n",
    "\n",
    "    # Step 2: Integrate with respect to y\n",
    "    display(Math(r\"\\text{Step 2: Integrate with respect to } y:\"))\n",
    "    integral_y = sp.integrate(integral_x, (y, y_min, y_max))\n",
    "    display(Math(r\"\\int_{%s}^{%s} \\left( %s \\right) \\, dy = %s\" % (y_min, y_max, sp.latex(integral_x), sp.latex(integral_y))))\n",
    "\n",
    "    # Final result\n",
    "    display(Math(r\"\\text{Final Result: } \\int_{%s}^{%s} \\int_{%s}^{%s} \\left( %s \\right) \\, dx \\, dy = %s\" % (y_min, y_max, x_min, x_max, sp.latex(expr), sp.latex(integral_y))))\n",
    "\n",
    "    # Detailed Step-by-Step Solution\n",
    "    display(Math(r\"\\text{Detailed Step-by-Step Solution:}\"))\n",
    "\n",
    "    # Displaying each integration step\n",
    "    integral_x_steps = sp.integrate(expr, x).expand()\n",
    "    display(Math(r\"\\int \\left( %s \\right) \\, dx = %s\" % (sp.latex(expr), sp.latex(integral_x_steps))))\n",
    "\n",
    "    integral_y_steps = sp.integrate(integral_x_steps, y).expand()\n",
    "    display(Math(r\"\\int \\left( %s \\right) \\, dy = %s\" % (sp.latex(integral_x_steps), sp.latex(integral_y_steps))))\n",
    "\n",
    "    return integral_y\n",
    "\n",
    "# Example Usage\n",
    "x, y = sp.symbols('x y')\n",
    "function = x**2 + sp.sin(x) * y**2  # Example function\n",
    "x_range = (0, sp.pi)  # Integration range for x: 0 to π\n",
    "y_range = (0, 2)  # Integration range for y: 0 to 2\n",
    "\n",
    "# Call the function to compute the double integral\n",
    "result = compute_double_integral(function, x_range, y_range)"
   ]
  },
  {
   "cell_type": "code",
   "execution_count": null,
   "metadata": {},
   "outputs": [],
   "source": []
  }
 ],
 "metadata": {
  "kernelspec": {
   "display_name": "base",
   "language": "python",
   "name": "python3"
  },
  "language_info": {
   "codemirror_mode": {
    "name": "ipython",
    "version": 3
   },
   "file_extension": ".py",
   "mimetype": "text/x-python",
   "name": "python",
   "nbconvert_exporter": "python",
   "pygments_lexer": "ipython3",
   "version": "3.12.4"
  }
 },
 "nbformat": 4,
 "nbformat_minor": 2
}
